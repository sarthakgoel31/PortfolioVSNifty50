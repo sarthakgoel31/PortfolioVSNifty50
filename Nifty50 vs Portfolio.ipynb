{
 "cells": [
  {
   "cell_type": "code",
   "execution_count": 1,
   "metadata": {},
   "outputs": [],
   "source": [
    "import pandas as pd\n",
    "import time\n",
    "from IPython.display import display\n",
    "import numpy as np\n",
    "import copy\n",
    "import plotly as py\n",
    "import math\n",
    "import matplotlib.pyplot as plt\n",
    "\n",
    "pd.set_option('display.max_rows', None)\n",
    "pd.set_option('display.max_columns', None)\n",
    "pd.set_option('display.width', None)"
   ]
  },
  {
   "cell_type": "code",
   "execution_count": 2,
   "metadata": {},
   "outputs": [],
   "source": [
    "Nifty50 = pd.read_csv('G:\\\\True Beacon Project\\\\Nifty50 Data March 20 to Feb 21.csv')\n",
    "Nifty50 = Nifty50.drop(Nifty50.columns[[1,2,3,5,6]], axis=1)\n",
    "Portfolio = pd.read_csv('G:\\\\True Beacon Project\\\\Open Ended Schemes ( Equity Scheme - Large Cap Fund ) 2 March 20 to 1 march 21.csv')"
   ]
  },
  {
   "cell_type": "code",
   "execution_count": 3,
   "metadata": {},
   "outputs": [],
   "source": [
    "Portfolio[\"Daily Return\"] = Portfolio[\"Net Asset Value\"].pct_change(1)\n",
    "Nifty50[\"Daily Return\"] = Nifty50[\"Close\"].pct_change(1)"
   ]
  },
  {
   "cell_type": "code",
   "execution_count": 4,
   "metadata": {},
   "outputs": [],
   "source": [
    "Portfolio[\"Cum_Daily_Return\"] = (1 + Portfolio[\"Daily Return\"]).cumprod()\n",
    "Nifty50[\"Cum_Daily_Return\"] = (1 + Nifty50[\"Daily Return\"]).cumprod()"
   ]
  },
  {
   "cell_type": "code",
   "execution_count": 5,
   "metadata": {},
   "outputs": [],
   "source": [
    "CAGR_Portfolio = (Portfolio[\"Cum_Daily_Return\"][247]/Portfolio[\"Cum_Daily_Return\"][1]-1)\n",
    "CAGR_Nifty50 = (Nifty50[\"Cum_Daily_Return\"][247]/Nifty50[\"Cum_Daily_Return\"][1]-1)"
   ]
  },
  {
   "cell_type": "code",
   "execution_count": 6,
   "metadata": {},
   "outputs": [],
   "source": [
    "SharpeRatio_Portfolio=(CAGR_Portfolio-0.025)/(Portfolio[\"Daily Return\"].std() * np.sqrt(252*78))\n",
    "SharpeRatio_Nifty50=(CAGR_Nifty50-0.025)/(Nifty50[\"Daily Return\"].std() * np.sqrt(252*78))"
   ]
  },
  {
   "cell_type": "code",
   "execution_count": 7,
   "metadata": {},
   "outputs": [],
   "source": [
    "Portfolio[\"Cum_Roll_Max\"] = Portfolio[\"Cum_Daily_Return\"].cummax()\n",
    "Portfolio[\"Drawdown\"] = Portfolio[\"Cum_Roll_Max\"] - Portfolio[\"Cum_Daily_Return\"]\n",
    "Portfolio[\"Drawdown_pct\"] = Portfolio[\"Drawdown\"]/Portfolio[\"Cum_Roll_Max\"]\n",
    "MaxDD_Portfolio = Portfolio[\"Drawdown_pct\"].max()\n",
    "\n",
    "Nifty50[\"Cum_Roll_Max\"] = Nifty50[\"Cum_Daily_Return\"].cummax()\n",
    "Nifty50[\"Drawdown\"] = Nifty50[\"Cum_Roll_Max\"] - Nifty50[\"Cum_Daily_Return\"]\n",
    "Nifty50[\"Drawdown_pct\"] = Nifty50[\"Drawdown\"]/Nifty50[\"Cum_Roll_Max\"]\n",
    "MaxDD_Nifty50 = Nifty50[\"Drawdown_pct\"].max()"
   ]
  },
  {
   "cell_type": "code",
   "execution_count": 8,
   "metadata": {},
   "outputs": [],
   "source": [
    "Portfolio[\"Close\"] = Portfolio[\"Net Asset Value\"]\n",
    "data = pd.DataFrame\n",
    "data = pd.concat([Portfolio[\"Close\"],Nifty50[\"Close\"]], join = 'outer', axis = 1)\n",
    "data.columns = [\"Portfolio\", \"Nifty50\"]"
   ]
  },
  {
   "cell_type": "code",
   "execution_count": 9,
   "metadata": {},
   "outputs": [],
   "source": [
    "sec_returns = np.log(data/data.shift(1))"
   ]
  },
  {
   "cell_type": "code",
   "execution_count": 10,
   "metadata": {},
   "outputs": [],
   "source": [
    "cov = sec_returns.cov() * 250"
   ]
  },
  {
   "cell_type": "code",
   "execution_count": 11,
   "metadata": {},
   "outputs": [],
   "source": [
    "corr = sec_returns.corr()"
   ]
  },
  {
   "cell_type": "code",
   "execution_count": 12,
   "metadata": {},
   "outputs": [
    {
     "data": {
      "text/plain": [
       "0.08227856601057447"
      ]
     },
     "execution_count": 12,
     "metadata": {},
     "output_type": "execute_result"
    }
   ],
   "source": [
    "cov_withBenchmark = cov.iloc[0,1]\n",
    "cov_withBenchmark"
   ]
  },
  {
   "cell_type": "code",
   "execution_count": 13,
   "metadata": {},
   "outputs": [
    {
     "data": {
      "text/plain": [
       "0.10394621088492484"
      ]
     },
     "execution_count": 13,
     "metadata": {},
     "output_type": "execute_result"
    }
   ],
   "source": [
    "market_var = sec_returns['Nifty50'].var() * 250\n",
    "market_var"
   ]
  },
  {
   "cell_type": "code",
   "execution_count": 14,
   "metadata": {},
   "outputs": [
    {
     "data": {
      "image/png": "[encoded data removed]",
      "text/plain": [
       "<Figure size 432x288 with 1 Axes>"
      ]
     },
     "metadata": {
      "needs_background": "light"
     },
     "output_type": "display_data"
    }
   ],
   "source": [
    "a = Portfolio[\"Cum_Daily_Return\"]\n",
    "b = Nifty50[\"Cum_Daily_Return\"]\n",
    "\n",
    "plt.plot(a, 'r') # plotting t, a separately \n",
    "plt.plot(b, 'b') # plotting t, b separately \n",
    "\n",
    "plt.legend(['Portfolio', 'Nifty50']) \n",
    "plt.title(\"Portfolio against Benchmark\")\n",
    "plt.show()"
   ]
  },
  {
   "cell_type": "code",
   "execution_count": 15,
   "metadata": {},
   "outputs": [
    {
     "data": {
      "text/html": [
       "<div>\n",
       "<style scoped>\n",
       "    .dataframe tbody tr th:only-of-type {\n",
       "        vertical-align: middle;\n",
       "    }\n",
       "\n",
       "    .dataframe tbody tr th {\n",
       "        vertical-align: top;\n",
       "    }\n",
       "\n",
       "    .dataframe thead th {\n",
       "        text-align: right;\n",
       "    }\n",
       "</style>\n",
       "<table border=\"1\" class=\"dataframe\">\n",
       "  <thead>\n",
       "    <tr style=\"text-align: right;\">\n",
       "      <th></th>\n",
       "      <th>Portfolio</th>\n",
       "      <th>Nifty50</th>\n",
       "    </tr>\n",
       "  </thead>\n",
       "  <tbody>\n",
       "    <tr>\n",
       "      <th>CAGR</th>\n",
       "      <td>0.285873</td>\n",
       "      <td>0.335659</td>\n",
       "    </tr>\n",
       "    <tr>\n",
       "      <th>Sharpe ratio</th>\n",
       "      <td>0.105738</td>\n",
       "      <td>0.110283</td>\n",
       "    </tr>\n",
       "    <tr>\n",
       "      <th>Max Drawdown</th>\n",
       "      <td>0.287356</td>\n",
       "      <td>0.326723</td>\n",
       "    </tr>\n",
       "    <tr>\n",
       "      <th>Return</th>\n",
       "      <td>1.302780</td>\n",
       "      <td>1.356120</td>\n",
       "    </tr>\n",
       "  </tbody>\n",
       "</table>\n",
       "</div>"
      ],
      "text/plain": [
       "              Portfolio   Nifty50\n",
       "CAGR           0.285873  0.335659\n",
       "Sharpe ratio   0.105738  0.110283\n",
       "Max Drawdown   0.287356  0.326723\n",
       "Return         1.302780  1.356120"
      ]
     },
     "execution_count": 15,
     "metadata": {},
     "output_type": "execute_result"
    }
   ],
   "source": [
    "data = {'Portfolio':[CAGR_Portfolio,SharpeRatio_Portfolio,MaxDD_Portfolio, Portfolio[\"Cum_Daily_Return\"][247]], 'Nifty50':[CAGR_Nifty50,SharpeRatio_Nifty50,MaxDD_Nifty50, Nifty50[\"Cum_Daily_Return\"][247]]} \n",
    "df = pd.DataFrame(data, index =['CAGR', \n",
    "                                'Sharpe ratio', \n",
    "                                'Max Drawdown',\n",
    "                                'Return']) \n",
    "df "
   ]
  },
  {
   "cell_type": "code",
   "execution_count": 16,
   "metadata": {},
   "outputs": [
    {
     "name": "stdout",
     "output_type": "stream",
     "text": [
      "Beta =  0.7915494495673551\n",
      "Expected Return =  0.06457747247836776\n",
      "Sharpe from Expected Return of the Portfolio =  0.14026419127078088\n",
      "R-Squared =  0.8272835462504259\n",
      "Standard Deviation =  27.93511826475759\n"
     ]
    }
   ],
   "source": [
    "Portfolio_Beta = cov_withBenchmark/market_var\n",
    "print(\"Beta = \", Portfolio_Beta)\n",
    "Portfolio_ExpectedReturn = 0.025 + Portfolio_Beta * 0.05\n",
    "print(\"Expected Return = \", Portfolio_ExpectedReturn)\n",
    "Sharpe_ExpectedReturn = (Portfolio_ExpectedReturn -0.025) / (sec_returns['Portfolio'].std()*250**0.5)\n",
    "print(\"Sharpe from Expected Return of the Portfolio = \", Sharpe_ExpectedReturn)\n",
    "RSquared = (corr.iloc[0,1])**2\n",
    "print(\"R-Squared = \", RSquared)\n",
    "SD = Portfolio[\"Daily Return\"].std()*100*np.sqrt(252)\n",
    "print(\"Standard Deviation = \", SD)"
   ]
  },
  {
   "cell_type": "code",
   "execution_count": null,
   "metadata": {},
   "outputs": [],
   "source": []
  }
 ],
 "metadata": {
  "kernelspec": {
   "display_name": "Python 3",
   "language": "python",
   "name": "python3"
  },
  "language_info": {
   "codemirror_mode": {
    "name": "ipython",
    "version": 3
   },
   "file_extension": ".py",
   "mimetype": "text/x-python",
   "name": "python",
   "nbconvert_exporter": "python",
   "pygments_lexer": "ipython3",
   "version": "3.8.3"
  }
 },
 "nbformat": 4,
 "nbformat_minor": 4
}
